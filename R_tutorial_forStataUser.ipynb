{
  "nbformat": 4,
  "nbformat_minor": 0,
  "metadata": {
    "colab": {
      "provenance": [],
      "authorship_tag": "ABX9TyMxN/JtURXNrmLEPexbEah+",
      "include_colab_link": true
    },
    "kernelspec": {
      "name": "ir",
      "display_name": "R"
    },
    "language_info": {
      "name": "R"
    }
  },
  "cells": [
    {
      "cell_type": "markdown",
      "metadata": {
        "id": "view-in-github",
        "colab_type": "text"
      },
      "source": [
        "<a href=\"https://colab.research.google.com/github/ppseguel/r_quicktutorial/blob/main/R_tutorial_forStataUser.ipynb\" target=\"_parent\"><img src=\"https://colab.research.google.com/assets/colab-badge.svg\" alt=\"Open In Colab\"/></a>"
      ]
    },
    {
      "cell_type": "markdown",
      "source": [
        "R Tutorial for a Stata User\n",
        "1. Introduction\n",
        "R is an open-source programming language for statistical analysis and visualization. RStudio is the most commonly used integrated development environment (IDE) for R, providing a user-friendly interface.\n",
        "\n",
        "2. Installing R and RStudio\n",
        "Install R from CRAN.\n",
        "Install RStudio.\n",
        "3. Reading a Database\n",
        "In Stata, you may be familiar with using import delimited or use to read data. In R, you use the read.csv or read.table functions."
      ],
      "metadata": {
        "id": "c49aJR-_7BUr"
      }
    },
    {
      "cell_type": "code",
      "execution_count": null,
      "metadata": {
        "id": "YkiTa6J966O-"
      },
      "outputs": [],
      "source": [
        "data <- read.csv(\"path/to/your/datafile.csv\")"
      ]
    },
    {
      "cell_type": "markdown",
      "source": [
        "4. Basic Data Manipulation\n",
        "If you're used to summarize in Stata, the equivalent in R is the summary function.\n",
        "\n"
      ],
      "metadata": {
        "id": "x6l8ddh569Ha"
      }
    },
    {
      "cell_type": "code",
      "source": [
        "summary(data)\n"
      ],
      "metadata": {
        "id": "atUt4OiI8NyQ"
      },
      "execution_count": null,
      "outputs": []
    },
    {
      "cell_type": "markdown",
      "source": [
        "For filtering data (similar to Stata's keep if):"
      ],
      "metadata": {
        "id": "79SoDysZ8ZfU"
      }
    },
    {
      "cell_type": "code",
      "source": [
        "filtered_data <- subset(data, condition_here)\n"
      ],
      "metadata": {
        "id": "NJuxFxuF8Z7P"
      },
      "execution_count": null,
      "outputs": []
    },
    {
      "cell_type": "markdown",
      "source": [
        "5. Descriptive Statistics\n",
        "For means, standard deviations, etc., you can use:"
      ],
      "metadata": {
        "id": "SVB1IAAk8aQW"
      }
    },
    {
      "cell_type": "code",
      "source": [
        "mean(data$variable_name)\n",
        "sd(data$variable_name)\n"
      ],
      "metadata": {
        "id": "Rz-q9bp78anL"
      },
      "execution_count": null,
      "outputs": []
    },
    {
      "cell_type": "markdown",
      "source": [
        "6. Introduction to ggplot2 for Plotting\n",
        "First, you need to install and load the ggplot2 package:"
      ],
      "metadata": {
        "id": "-eNs_sRE8a8o"
      }
    },
    {
      "cell_type": "code",
      "source": [
        "install.packages(\"ggplot2\")\n",
        "library(ggplot2)"
      ],
      "metadata": {
        "id": "1Xa0BvEV86zf"
      },
      "execution_count": null,
      "outputs": []
    },
    {
      "cell_type": "markdown",
      "source": [
        "Plotting a histogram:\n",
        "\n"
      ],
      "metadata": {
        "id": "cbrCPCnn9AcM"
      }
    },
    {
      "cell_type": "code",
      "source": [
        "ggplot(data, aes(x=variable_name)) +\n",
        "  geom_histogram(binwidth=bin_size_here, fill=\"color_here\", color=\"border_color_here\") +\n",
        "  labs(title=\"Your Title\", x=\"X Axis Label\", y=\"Y Axis Label\")\n"
      ],
      "metadata": {
        "id": "woiSdoBu9BId"
      },
      "execution_count": null,
      "outputs": []
    },
    {
      "cell_type": "markdown",
      "source": [
        "Scatterplot:\n",
        "\n"
      ],
      "metadata": {
        "id": "sExzlYXh9BU7"
      }
    },
    {
      "cell_type": "code",
      "source": [
        "ggplot(data, aes(x=variable1_name, y=variable2_name)) +\n",
        "  geom_point() +\n",
        "  labs(title=\"Your Title\", x=\"X Axis Label\", y=\"Y Axis Label\")\n"
      ],
      "metadata": {
        "id": "p9uycwaO9B7x"
      },
      "execution_count": null,
      "outputs": []
    },
    {
      "cell_type": "markdown",
      "source": [
        "7. Conclusion\n",
        "This tutorial is a concise introduction. As you dive deeper into R, you'll discover its richness and flexibility, especially with the vast array of packages available for various tasks. With your background in social statistics and experience with Stata, you'll find many parallels, making your transition smoother.\n",
        "\n",
        "Remember, while syntax and certain processes may differ, the underlying statistical principles remain the same. Enjoy your journey into R!\n",
        "\n",
        "Note: Adjust the tutorial according to the specific needs of your audience. The above is a basic introduction to get started, but R's capabilities extend far beyond what's mentioned here."
      ],
      "metadata": {
        "id": "EzssS8IZ9CI-"
      }
    },
    {
      "cell_type": "markdown",
      "source": [
        "Using dplyr in R\n",
        "1. Installing and Loading the dplyr Package\n",
        "If you haven't already installed it, you can do so with:"
      ],
      "metadata": {
        "id": "CNTNXuYL9DLb"
      }
    },
    {
      "cell_type": "code",
      "source": [
        "install.packages(\"dplyr\")\n"
      ],
      "metadata": {
        "id": "RvNXMprX9Diy"
      },
      "execution_count": null,
      "outputs": []
    },
    {
      "cell_type": "markdown",
      "source": [],
      "metadata": {
        "id": "fyJ013SR9vc9"
      }
    },
    {
      "cell_type": "code",
      "source": [],
      "metadata": {
        "id": "4Iekn6XB9vxj"
      },
      "execution_count": null,
      "outputs": []
    },
    {
      "cell_type": "markdown",
      "source": [],
      "metadata": {
        "id": "BFUvJP6K9v9o"
      }
    },
    {
      "cell_type": "code",
      "source": [],
      "metadata": {
        "id": "Ip0L_1H79wbh"
      },
      "execution_count": null,
      "outputs": []
    },
    {
      "cell_type": "markdown",
      "source": [],
      "metadata": {
        "id": "-0iWXGQC9wmb"
      }
    },
    {
      "cell_type": "code",
      "source": [],
      "metadata": {
        "id": "QK9PJqSr9xTE"
      },
      "execution_count": null,
      "outputs": []
    }
  ]
}