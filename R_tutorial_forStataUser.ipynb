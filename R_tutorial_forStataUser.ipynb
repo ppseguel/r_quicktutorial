{
  "nbformat": 4,
  "nbformat_minor": 0,
  "metadata": {
    "colab": {
      "provenance": [],
      "authorship_tag": "ABX9TyN7/quOl1nkpyjDYozLQeKM",
      "include_colab_link": true
    },
    "kernelspec": {
      "name": "ir",
      "display_name": "R"
    },
    "language_info": {
      "name": "R"
    }
  },
  "cells": [
    {
      "cell_type": "markdown",
      "metadata": {
        "id": "view-in-github",
        "colab_type": "text"
      },
      "source": [
        "<a href=\"https://colab.research.google.com/github/ppseguel/r_quicktutorial/blob/main/R_tutorial_forStataUser.ipynb\" target=\"_parent\"><img src=\"https://colab.research.google.com/assets/colab-badge.svg\" alt=\"Open In Colab\"/></a>"
      ]
    },
    {
      "cell_type": "markdown",
      "source": [
        "#R Tutorial for a Stata User\n",
        "1. Introduction\n",
        "R is an open-source programming language for statistical analysis and visualization. RStudio is the most commonly used integrated development environment (IDE) for R, providing a user-friendly interface.\n",
        "\n",
        "2. Installing R and RStudio\n",
        "Install R from CRAN.\n",
        "Install RStudio.\n",
        "3. Reading a Database\n",
        "In Stata, you may be familiar with using import delimited or use to read data. In R, you use the read.csv or read.table functions."
      ],
      "metadata": {
        "id": "c49aJR-_7BUr"
      }
    },
    {
      "cell_type": "code",
      "execution_count": null,
      "metadata": {
        "id": "YkiTa6J966O-"
      },
      "outputs": [],
      "source": [
        "data <- read.csv(\"path/to/your/datafile.csv\")"
      ]
    },
    {
      "cell_type": "markdown",
      "source": [
        "4. Basic Data Manipulation\n",
        "If you're used to summarize in Stata, the equivalent in R is the summary function.\n",
        "\n"
      ],
      "metadata": {
        "id": "x6l8ddh569Ha"
      }
    },
    {
      "cell_type": "code",
      "source": [
        "summary(data)\n"
      ],
      "metadata": {
        "id": "atUt4OiI8NyQ"
      },
      "execution_count": null,
      "outputs": []
    },
    {
      "cell_type": "markdown",
      "source": [
        "For filtering data (similar to Stata's keep if):"
      ],
      "metadata": {
        "id": "79SoDysZ8ZfU"
      }
    },
    {
      "cell_type": "code",
      "source": [
        "filtered_data <- subset(data, condition_here)\n"
      ],
      "metadata": {
        "id": "NJuxFxuF8Z7P"
      },
      "execution_count": null,
      "outputs": []
    },
    {
      "cell_type": "markdown",
      "source": [
        "5. Descriptive Statistics\n",
        "For means, standard deviations, etc., you can use:"
      ],
      "metadata": {
        "id": "SVB1IAAk8aQW"
      }
    },
    {
      "cell_type": "code",
      "source": [
        "mean(data$variable_name)\n",
        "sd(data$variable_name)\n"
      ],
      "metadata": {
        "id": "Rz-q9bp78anL"
      },
      "execution_count": null,
      "outputs": []
    },
    {
      "cell_type": "markdown",
      "source": [
        "6. Introduction to ggplot2 for Plotting\n",
        "First, you need to install and load the ggplot2 package:"
      ],
      "metadata": {
        "id": "-eNs_sRE8a8o"
      }
    },
    {
      "cell_type": "code",
      "source": [
        "install.packages(\"ggplot2\")\n",
        "library(ggplot2)"
      ],
      "metadata": {
        "id": "1Xa0BvEV86zf"
      },
      "execution_count": null,
      "outputs": []
    },
    {
      "cell_type": "markdown",
      "source": [
        "Plotting a histogram:\n",
        "\n"
      ],
      "metadata": {
        "id": "cbrCPCnn9AcM"
      }
    },
    {
      "cell_type": "code",
      "source": [
        "ggplot(data, aes(x=variable_name)) +\n",
        "  geom_histogram(binwidth=bin_size_here, fill=\"color_here\", color=\"border_color_here\") +\n",
        "  labs(title=\"Your Title\", x=\"X Axis Label\", y=\"Y Axis Label\")\n"
      ],
      "metadata": {
        "id": "woiSdoBu9BId"
      },
      "execution_count": null,
      "outputs": []
    },
    {
      "cell_type": "markdown",
      "source": [
        "Scatterplot:\n",
        "\n"
      ],
      "metadata": {
        "id": "sExzlYXh9BU7"
      }
    },
    {
      "cell_type": "code",
      "source": [
        "ggplot(data, aes(x=variable1_name, y=variable2_name)) +\n",
        "  geom_point() +\n",
        "  labs(title=\"Your Title\", x=\"X Axis Label\", y=\"Y Axis Label\")\n"
      ],
      "metadata": {
        "id": "p9uycwaO9B7x"
      },
      "execution_count": null,
      "outputs": []
    },
    {
      "cell_type": "markdown",
      "source": [
        "7. Conclusion\n",
        "This tutorial is a concise introduction. As you dive deeper into R, you'll discover its richness and flexibility, especially with the vast array of packages available for various tasks. With your background in social statistics and experience with Stata, you'll find many parallels, making your transition smoother.\n",
        "\n",
        "Remember, while syntax and certain processes may differ, the underlying statistical principles remain the same. Enjoy your journey into R!\n",
        "\n",
        "Note: Adjust the tutorial according to the specific needs of your audience. The above is a basic introduction to get started, but R's capabilities extend far beyond what's mentioned here."
      ],
      "metadata": {
        "id": "EzssS8IZ9CI-"
      }
    },
    {
      "cell_type": "markdown",
      "source": [
        "Using dplyr in R\n",
        "1. Installing and Loading the dplyr Package\n",
        "If you haven't already installed it, you can do so with:"
      ],
      "metadata": {
        "id": "CNTNXuYL9DLb"
      }
    },
    {
      "cell_type": "code",
      "source": [
        "install.packages(\"dplyr\")\n"
      ],
      "metadata": {
        "id": "RvNXMprX9Diy"
      },
      "execution_count": null,
      "outputs": []
    },
    {
      "cell_type": "markdown",
      "source": [
        "2. Basic Data Manipulation with dplyr\n",
        "Here's a quick introduction to some of the primary verbs (functions) in dplyr:\n",
        "\n",
        "filter() - for subsetting rows."
      ],
      "metadata": {
        "id": "fyJ013SR9vc9"
      }
    },
    {
      "cell_type": "code",
      "source": [
        "# Filtering data where some_condition is met\n",
        "filtered_data <- data %>% filter(some_condition)\n"
      ],
      "metadata": {
        "id": "4Iekn6XB9vxj"
      },
      "execution_count": null,
      "outputs": []
    },
    {
      "cell_type": "markdown",
      "source": [
        "select() - for selecting columns.\n",
        "\n"
      ],
      "metadata": {
        "id": "BFUvJP6K9v9o"
      }
    },
    {
      "cell_type": "code",
      "source": [
        "# Selecting specific columns\n",
        "selected_data <- data %>% select(column1, column2, ...)\n"
      ],
      "metadata": {
        "id": "Ip0L_1H79wbh"
      },
      "execution_count": null,
      "outputs": []
    },
    {
      "cell_type": "markdown",
      "source": [
        "mutate() - for adding or modifying columns.\n",
        "\n"
      ],
      "metadata": {
        "id": "-0iWXGQC9wmb"
      }
    },
    {
      "cell_type": "code",
      "source": [
        "# Creating a new column 'new_column' based on some calculations\n",
        "mutated_data <- data %>% mutate(new_column = column1 + column2)\n"
      ],
      "metadata": {
        "id": "QK9PJqSr9xTE"
      },
      "execution_count": null,
      "outputs": []
    },
    {
      "cell_type": "markdown",
      "source": [
        "arrange() - for sorting rows.\n",
        "\n"
      ],
      "metadata": {
        "id": "qBqoXUr9_Hnc"
      }
    },
    {
      "cell_type": "code",
      "source": [
        "# Arranging data by 'column1'\n",
        "arranged_data <- data %>% arrange(column1)\n"
      ],
      "metadata": {
        "id": "SLZsPZIT_G7p"
      },
      "execution_count": null,
      "outputs": []
    },
    {
      "cell_type": "markdown",
      "source": [
        "3. Grouped Operations with dplyr\n",
        "Often in social statistics, you want to compute statistics grouped by categories. Here's how you can use dplyr to achieve this:\n",
        "\n",
        "group_by() and summarise() - for grouped operations."
      ],
      "metadata": {
        "id": "5n1hT90s_IHa"
      }
    },
    {
      "cell_type": "code",
      "source": [
        "# Calculating mean of 'numeric_column' grouped by 'categorical_column'\n",
        "grouped_stats <- data %>%\n",
        "  group_by(categorical_column) %>%\n",
        "  summarise(mean_value = mean(numeric_column, na.rm = TRUE))\n"
      ],
      "metadata": {
        "id": "PUKYb9g__IeR"
      },
      "execution_count": null,
      "outputs": []
    },
    {
      "cell_type": "markdown",
      "source": [
        "he code above first groups the data by categorical_column and then calculates the mean of numeric_column for each group. The result will be a new dataframe (grouped_stats) with each unique value of categorical_column and the corresponding mean of numeric_column.\n",
        "\n",
        "You can further add more statistics, like standard deviation, by adding lines inside the summarise() function:"
      ],
      "metadata": {
        "id": "pMy4TAqu_I3N"
      }
    },
    {
      "cell_type": "code",
      "source": [
        "grouped_stats <- data %>%\n",
        "  group_by(categorical_column) %>%\n",
        "  summarise(\n",
        "    mean_value = mean(numeric_column, na.rm = TRUE),\n",
        "    sd_value = sd(numeric_column, na.rm = TRUE)\n",
        "  )\n"
      ],
      "metadata": {
        "id": "Nbph_9Zl_JPH"
      },
      "execution_count": null,
      "outputs": []
    },
    {
      "cell_type": "markdown",
      "source": [
        ". Conclusion\n",
        "The dplyr package greatly simplifies data manipulation tasks in R, making it a must-know for anyone doing data analysis in the language. Combined with ggplot2, these tools empower users to perform a comprehensive exploratory data analysis with ease.\n",
        "\n",
        "Remember, this is just a brief introduction to dplyr. The package has many more capabilities and functions that allow for complex data manipulations. As you become more familiar with R and dplyr, you'll discover the depth of what's possible."
      ],
      "metadata": {
        "id": "TczxY7MI_Z2d"
      }
    },
    {
      "cell_type": "markdown",
      "source": [
        "#Example\n",
        "\n",
        "Let's craft a small dataset and walk through an example analyzing customer sales by country and identifying top sellers.\n",
        "\n",
        "1. Creating a Sample Dataset\n",
        "For our analysis, we'll assume we have a dataset with three columns: CustomerName, Country, and Sales"
      ],
      "metadata": {
        "id": "a-x-qN0HA1y_"
      }
    },
    {
      "cell_type": "code",
      "source": [
        "# Sample dataset\n",
        "data <- data.frame(\n",
        "  CustomerName = c('Alice', 'Bob', 'Charlie', 'David', 'Eve', 'Frank', 'Grace', 'Hannah', 'Ivan', 'Jack'),\n",
        "  Country = c('USA', 'UK', 'USA', 'Canada', 'UK', 'Canada', 'USA', 'UK', 'Canada', 'USA'),\n",
        "  Sales = c(100, 150, 200, 120, 180, 210, 190, 170, 140, 110)\n",
        ")\n"
      ],
      "metadata": {
        "id": "0bI4SBgC_ZUW"
      },
      "execution_count": 1,
      "outputs": []
    },
    {
      "cell_type": "markdown",
      "source": [
        "2. Analyzing Sales by Country with dplyr\n",
        "To find out the total sales by country:"
      ],
      "metadata": {
        "id": "nxQp-jQ3BBY_"
      }
    },
    {
      "cell_type": "code",
      "source": [
        "library(dplyr)\n",
        "\n",
        "sales_by_country <- data %>%\n",
        "  group_by(Country) %>%\n",
        "  summarise(TotalSales = sum(Sales))\n",
        "\n",
        "print(sales_by_country)\n"
      ],
      "metadata": {
        "colab": {
          "base_uri": "https://localhost:8080/"
        },
        "id": "wCVMN5zS_Xas",
        "outputId": "96dc3115-993c-40c0-cb48-304dc6b54515"
      },
      "execution_count": 2,
      "outputs": [
        {
          "output_type": "stream",
          "name": "stderr",
          "text": [
            "\n",
            "Attaching package: ‘dplyr’\n",
            "\n",
            "\n",
            "The following objects are masked from ‘package:stats’:\n",
            "\n",
            "    filter, lag\n",
            "\n",
            "\n",
            "The following objects are masked from ‘package:base’:\n",
            "\n",
            "    intersect, setdiff, setequal, union\n",
            "\n",
            "\n"
          ]
        },
        {
          "output_type": "stream",
          "name": "stdout",
          "text": [
            "\u001b[90m# A tibble: 3 × 2\u001b[39m\n",
            "  Country TotalSales\n",
            "  \u001b[3m\u001b[90m<chr>\u001b[39m\u001b[23m        \u001b[3m\u001b[90m<dbl>\u001b[39m\u001b[23m\n",
            "\u001b[90m1\u001b[39m Canada         470\n",
            "\u001b[90m2\u001b[39m UK             500\n",
            "\u001b[90m3\u001b[39m USA            600\n"
          ]
        }
      ]
    },
    {
      "cell_type": "markdown",
      "source": [
        "3. Identifying Top Sellers\n",
        "Let's say we want to identify the top 3 sellers:\n",
        "\n"
      ],
      "metadata": {
        "id": "oAP_oq2OBGgV"
      }
    },
    {
      "cell_type": "code",
      "source": [
        "top_sellers <- data %>%\n",
        "  arrange(desc(Sales)) %>%\n",
        "  head(3)\n",
        "\n",
        "print(top_sellers)\n"
      ],
      "metadata": {
        "colab": {
          "base_uri": "https://localhost:8080/"
        },
        "id": "6LD1vGkYBHEV",
        "outputId": "f6754f9f-4ec5-4f69-966f-89fbca1876e3"
      },
      "execution_count": 3,
      "outputs": [
        {
          "output_type": "stream",
          "name": "stdout",
          "text": [
            "  CustomerName Country Sales\n",
            "1        Frank  Canada   210\n",
            "2      Charlie     USA   200\n",
            "3        Grace     USA   190\n"
          ]
        }
      ]
    },
    {
      "cell_type": "markdown",
      "source": [
        "4. Visualization with ggplot2\n",
        "To visualize total sales by country:"
      ],
      "metadata": {
        "id": "D-VyYhTSBHPx"
      }
    },
    {
      "cell_type": "code",
      "source": [
        "library(ggplot2)\n",
        "\n",
        "ggplot(sales_by_country, aes(x=Country, y=TotalSales)) +\n",
        "  geom_bar(stat=\"identity\", fill=\"steelblue\") +\n",
        "  labs(title=\"Total Sales by Country\", x=\"Country\", y=\"Sales\") +\n",
        "  theme_minimal()\n"
      ],
      "metadata": {
        "colab": {
          "base_uri": "https://localhost:8080/",
          "height": 437
        },
        "id": "RxDW1nC_BHpn",
        "outputId": "04e2310a-7b28-4574-801b-03ad26b8c475"
      },
      "execution_count": 4,
      "outputs": [
        {
          "output_type": "display_data",
          "data": {
            "text/plain": [
              "plot without title"
            ],
            "image/png": "[encoded data removed]"
          },
          "metadata": {
            "image/png": {
              "width": 420,
              "height": 420
            }
          }
        }
      ]
    },
    {
      "cell_type": "markdown",
      "source": [
        "To visualize individual customer sales and highlight the top 3 sellers:\n",
        "\n"
      ],
      "metadata": {
        "id": "jp0kDjWRBH7A"
      }
    },
    {
      "cell_type": "code",
      "source": [
        "data$Highlight <- ifelse(data$CustomerName %in% top_sellers$CustomerName, \"Top Seller\", \"Others\")\n",
        "\n",
        "ggplot(data, aes(x=CustomerName, y=Sales, fill=Highlight)) +\n",
        "  geom_bar(stat=\"identity\") +\n",
        "  labs(title=\"Sales by Customer\", x=\"Customer\", y=\"Sales\") +\n",
        "  theme_minimal() +\n",
        "  theme(axis.text.x = element_text(angle = 45, hjust = 1))\n"
      ],
      "metadata": {
        "colab": {
          "base_uri": "https://localhost:8080/",
          "height": 437
        },
        "id": "qNMts4cmBIbM",
        "outputId": "2d1fdfc4-e274-4890-a5f1-87cbdfc6f814"
      },
      "execution_count": 5,
      "outputs": [
        {
          "output_type": "display_data",
          "data": {
            "text/plain": [
              "plot without title"
            ],
            "image/png": "[encoded data removed]"
          },
          "metadata": {
            "image/png": {
              "width": 420,
              "height": 420
            }
          }
        }
      ]
    },
    {
      "cell_type": "markdown",
      "source": [
        "This second plot uses color to differentiate between the top sellers and the others. The top sellers are highlighted with a different color for easy identification."
      ],
      "metadata": {
        "id": "Rj-oQnYvBiLC"
      }
    }
  ]
}